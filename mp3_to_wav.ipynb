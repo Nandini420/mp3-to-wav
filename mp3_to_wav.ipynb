{
  "nbformat": 4,
  "nbformat_minor": 0,
  "metadata": {
    "colab": {
      "provenance": []
    },
    "kernelspec": {
      "name": "python3",
      "display_name": "Python 3"
    },
    "language_info": {
      "name": "python"
    }
  },
  "cells": [
    {
      "cell_type": "code",
      "execution_count": 3,
      "metadata": {
        "id": "YyfTpo253_eG"
      },
      "outputs": [],
      "source": [
        "from pydub import AudioSegment\n",
        "import os"
      ]
    },
    {
      "cell_type": "code",
      "source": [
        "from google.colab import drive\n",
        "drive.mount('/content/drive')"
      ],
      "metadata": {
        "colab": {
          "base_uri": "https://localhost:8080/"
        },
        "id": "tNq_GTx94YmN",
        "outputId": "141e838f-8ba0-4d48-acd7-aa29334fdd95"
      },
      "execution_count": 4,
      "outputs": [
        {
          "output_type": "stream",
          "name": "stdout",
          "text": [
            "Mounted at /content/drive\n"
          ]
        }
      ]
    },
    {
      "cell_type": "code",
      "source": [
        "# Directory containing the MP3 files to be converted\n",
        "mp3_dir = \"/content/drive/MyDrive/songs/mp3\""
      ],
      "metadata": {
        "id": "6F_paCBD4L1D"
      },
      "execution_count": 5,
      "outputs": []
    },
    {
      "cell_type": "code",
      "source": [
        "# Directory to save the converted WAV files\n",
        "wav_dir = \"/content/drive/MyDrive/songs/wav\""
      ],
      "metadata": {
        "id": "_86nxhlL4OGL"
      },
      "execution_count": 6,
      "outputs": []
    },
    {
      "cell_type": "code",
      "source": [
        "\n",
        "# Get list of MP3 files in the directory\n",
        "mp3_files = [f for f in os.listdir(mp3_dir) if f.endswith(\".mp3\")]"
      ],
      "metadata": {
        "id": "VEUdoT4R4UBa"
      },
      "execution_count": 7,
      "outputs": []
    },
    {
      "cell_type": "code",
      "source": [
        "# Loop through each MP3 file and convert to WAV\n",
        "for mp3_file in mp3_files:\n",
        "    # Load the MP3 file\n",
        "    mp3_path = os.path.join(mp3_dir, mp3_file)\n",
        "    audio = AudioSegment.from_file(mp3_path, format=\"mp3\")\n",
        "\n",
        "    # Set the output file name with the same name as the input file, but with .wav extension\n",
        "    wav_file = os.path.splitext(mp3_file)[0] + \".wav\"\n",
        "    wav_path = os.path.join(wav_dir, wav_file)\n",
        "\n",
        "    # Export to WAV format\n",
        "    audio.export(wav_path, format=\"wav\")\n",
        "\n",
        "    print(f\"Converted {mp3_file} to {wav_file}\")\n",
        "\n",
        "print(\"Conversion completed!\")"
      ],
      "metadata": {
        "colab": {
          "base_uri": "https://localhost:8080/"
        },
        "id": "4aQLM8yN4ITT",
        "outputId": "a89cd3b1-a39e-4464-f821-c0ae2c78b43b"
      },
      "execution_count": 8,
      "outputs": [
        {
          "output_type": "stream",
          "name": "stdout",
          "text": [
            "Converted Standing-By-You(PaglaSongs).mp3 to Standing-By-You(PaglaSongs).wav\n",
            "Converted Bulave-Tujhe-Yaar-Aaj-Meri-Galiyan(PagalWorld).mp3 to Bulave-Tujhe-Yaar-Aaj-Meri-Galiyan(PagalWorld).wav\n",
            "Conversion completed!\n"
          ]
        }
      ]
    },
    {
      "cell_type": "code",
      "source": [],
      "metadata": {
        "id": "tytefiGt4IW1"
      },
      "execution_count": null,
      "outputs": []
    },
    {
      "cell_type": "code",
      "source": [],
      "metadata": {
        "id": "hg454rzT4Ic6"
      },
      "execution_count": null,
      "outputs": []
    }
  ]
}